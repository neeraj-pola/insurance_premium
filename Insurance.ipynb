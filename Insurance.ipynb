{
  "nbformat": 4,
  "nbformat_minor": 0,
  "metadata": {
    "colab": {
      "name": "Insurance.ipynb",
      "provenance": [],
      "authorship_tag": "ABX9TyNnvYRUA1cBFd7XpLv5AqIL",
      "include_colab_link": true
    },
    "kernelspec": {
      "name": "python3",
      "display_name": "Python 3"
    },
    "language_info": {
      "name": "python"
    }
  },
  "cells": [
    {
      "cell_type": "markdown",
      "metadata": {
        "id": "view-in-github",
        "colab_type": "text"
      },
      "source": [
        "<a href=\"https://colab.research.google.com/github/neeraj-pola/insurance_premium/blob/main/Insurance.ipynb\" target=\"_parent\"><img src=\"https://colab.research.google.com/assets/colab-badge.svg\" alt=\"Open In Colab\"/></a>"
      ]
    },
    {
      "cell_type": "code",
      "execution_count": 90,
      "metadata": {
        "id": "QW34xgHf56M2"
      },
      "outputs": [],
      "source": [
        "import pandas as pd\n",
        "import numpy as np\n",
        "import matplotlib.pyplot as plt"
      ]
    },
    {
      "cell_type": "code",
      "source": [
        "dataset = pd.read_csv(\"insurance.csv\")\n",
        "x = dataset.iloc[:, 0:-2].values\n",
        "y = dataset.iloc[:, -1].values\n",
        "print(x)"
      ],
      "metadata": {
        "colab": {
          "base_uri": "https://localhost:8080/"
        },
        "id": "DCN0tj7K6FxN",
        "outputId": "d37784c4-da2a-47b7-9337-c094468ed949"
      },
      "execution_count": 91,
      "outputs": [
        {
          "output_type": "stream",
          "name": "stdout",
          "text": [
            "[[19 'female' 27.9 0 'yes']\n",
            " [18 'male' 33.8 1 'no']\n",
            " [28 'male' 33.0 3 'no']\n",
            " ...\n",
            " [18 'female' 36.9 0 'no']\n",
            " [21 'female' 25.8 0 'no']\n",
            " [61 'female' 29.1 0 'yes']]\n"
          ]
        }
      ]
    },
    {
      "cell_type": "code",
      "source": [
        "print(y)"
      ],
      "metadata": {
        "colab": {
          "base_uri": "https://localhost:8080/"
        },
        "id": "SI6raTkX612J",
        "outputId": "352a3dcf-2e3c-4c65-eab8-15ab9824416f"
      },
      "execution_count": 92,
      "outputs": [
        {
          "output_type": "stream",
          "name": "stdout",
          "text": [
            "[16884.92  1725.55  4449.46 ...  1629.83  2007.95 29141.36]\n"
          ]
        }
      ]
    },
    {
      "cell_type": "code",
      "source": [
        "from sklearn.preprocessing import LabelEncoder\n",
        "le = LabelEncoder()\n",
        "x[:, 1] = le.fit_transform(x[:, 1])\n",
        "x[:, 4] = le.fit_transform(x[:, 4])\n",
        "# x[:, 5] = le.fit_transform(x[:, 5])\n",
        "print(x)"
      ],
      "metadata": {
        "colab": {
          "base_uri": "https://localhost:8080/"
        },
        "id": "vpp6ndLg7QPi",
        "outputId": "e8815dcd-8704-4da2-e7ae-03da36659379"
      },
      "execution_count": 93,
      "outputs": [
        {
          "output_type": "stream",
          "name": "stdout",
          "text": [
            "[[19 0 27.9 0 1]\n",
            " [18 1 33.8 1 0]\n",
            " [28 1 33.0 3 0]\n",
            " ...\n",
            " [18 0 36.9 0 0]\n",
            " [21 0 25.8 0 0]\n",
            " [61 0 29.1 0 1]]\n"
          ]
        }
      ]
    },
    {
      "cell_type": "code",
      "source": [
        "from sklearn.model_selection import train_test_split\n",
        "x_train,x_test,y_train,y_test = train_test_split(x,y,test_size=0.2,random_state=11)\n",
        "print(x_train)"
      ],
      "metadata": {
        "colab": {
          "base_uri": "https://localhost:8080/"
        },
        "id": "zlFWoTk28atF",
        "outputId": "f8b0cb4a-9476-4e1d-c3cb-c4c02fd0efd5"
      },
      "execution_count": 94,
      "outputs": [
        {
          "output_type": "stream",
          "name": "stdout",
          "text": [
            "[[50 1 32.2 0 0]\n",
            " [24 0 27.6 0 0]\n",
            " [48 1 29.7 0 0]\n",
            " ...\n",
            " [46 1 25.7 3 0]\n",
            " [55 1 32.7 1 0]\n",
            " [37 1 29.8 0 0]]\n"
          ]
        }
      ]
    },
    {
      "cell_type": "code",
      "source": [
        "print(x_test)"
      ],
      "metadata": {
        "colab": {
          "base_uri": "https://localhost:8080/"
        },
        "id": "N5iPM74t8sl_",
        "outputId": "ab3cc536-26d9-42e7-af96-c6b1cb2f8ee0"
      },
      "execution_count": 95,
      "outputs": [
        {
          "output_type": "stream",
          "name": "stdout",
          "text": [
            "[[19 0 34.7 2 1]\n",
            " [34 0 27.7 0 0]\n",
            " [42 0 33.2 1 0]\n",
            " ...\n",
            " [19 0 40.5 0 0]\n",
            " [28 1 27.0 2 0]\n",
            " [51 1 33.3 3 0]]\n"
          ]
        }
      ]
    },
    {
      "cell_type": "code",
      "source": [
        "print(y_train[:50])"
      ],
      "metadata": {
        "colab": {
          "base_uri": "https://localhost:8080/"
        },
        "id": "QfLOPzOi8xaW",
        "outputId": "6b0c8ea0-a618-4f82-b712-fe9909ca58f6"
      },
      "execution_count": 96,
      "outputs": [
        {
          "output_type": "stream",
          "name": "stdout",
          "text": [
            "[ 8835.26 18955.22  7789.64 14283.46  3935.18  3044.21  3987.93 12950.07\n",
            " 11576.13 46718.16 13012.21  9778.35  9788.87  1635.73  8733.23  4992.38\n",
            " 11840.78  4686.39 22144.03  3292.53  4518.83 35147.53 12925.89  5972.38\n",
            " 11658.38  2201.1  10435.07  6600.21  4883.87  1163.46  1727.79  3171.61\n",
            " 48885.14  8428.07 29186.48 18223.45  7986.48 24393.62  1628.47  7419.48\n",
            " 12979.36 41676.08 19199.94  1728.9   2866.09 14590.63  4846.92  1769.53\n",
            " 12928.79 42760.5 ]\n"
          ]
        }
      ]
    },
    {
      "cell_type": "code",
      "source": [
        "print(y_test[:15])"
      ],
      "metadata": {
        "colab": {
          "base_uri": "https://localhost:8080/"
        },
        "id": "5BpKLO9E8zPs",
        "outputId": "81d5574f-7ab8-4fe6-f5e7-83a0be43cb08"
      },
      "execution_count": 97,
      "outputs": [
        {
          "output_type": "stream",
          "name": "stdout",
          "text": [
            "[36397.58  4415.16  7639.42  8965.8   9563.03 11454.02  5012.47 12648.7\n",
            " 13451.12 39871.7   2480.98 11856.41 25517.11  2155.68  5261.47]\n"
          ]
        }
      ]
    },
    {
      "cell_type": "code",
      "source": [
        "from sklearn.preprocessing import StandardScaler\n",
        "sc = StandardScaler()\n",
        "x_train = sc.fit_transform(x_train)\n",
        "x_test = sc.fit_transform(x_test)\n",
        "print(x_test)"
      ],
      "metadata": {
        "colab": {
          "base_uri": "https://localhost:8080/"
        },
        "id": "nz2Iy-zD880R",
        "outputId": "aa49067f-5356-46f7-b122-76d3e8482b97"
      },
      "execution_count": 98,
      "outputs": [
        {
          "output_type": "stream",
          "name": "stdout",
          "text": [
            "[[-1.46063388 -1.00749074  0.70253214  0.63400242  2.01410123]\n",
            " [-0.34326981 -1.00749074 -0.49734978 -0.95396625 -0.49649937]\n",
            " [ 0.2526577  -1.00749074  0.44541459 -0.15998192 -0.49649937]\n",
            " ...\n",
            " [-1.46063388 -1.00749074  1.69672002 -0.95396625 -0.49649937]\n",
            " [-0.79021544  0.99256495 -0.61733797  0.63400242 -0.49649937]\n",
            " [ 0.92307614  0.99256495  0.46255576  1.42798675 -0.49649937]]\n"
          ]
        }
      ]
    },
    {
      "cell_type": "code",
      "source": [
        "from sklearn.linear_model import LinearRegression\n",
        "regressor = LinearRegression()\n",
        "regressor.fit(x_train,y_train)"
      ],
      "metadata": {
        "colab": {
          "base_uri": "https://localhost:8080/"
        },
        "id": "804oVlp7-Gso",
        "outputId": "d5be66ee-af03-4e67-ac79-9f31a17dd816"
      },
      "execution_count": 99,
      "outputs": [
        {
          "output_type": "execute_result",
          "data": {
            "text/plain": [
              "LinearRegression()"
            ]
          },
          "metadata": {},
          "execution_count": 99
        }
      ]
    },
    {
      "cell_type": "code",
      "source": [
        "y_pred = regressor.predict(x_test)\n",
        "print(y_pred[:15])\n",
        "print(y_test[:15])"
      ],
      "metadata": {
        "colab": {
          "base_uri": "https://localhost:8080/"
        },
        "id": "uxUQwppF-geq",
        "outputId": "d6c19302-169b-4c25-ad53-acbfe03d994a"
      },
      "execution_count": 100,
      "outputs": [
        {
          "output_type": "stream",
          "name": "stdout",
          "text": [
            "[29073.78881276  5904.99524914 10557.17541658  8644.00025038\n",
            " 13235.57262224 11364.70556406  8493.12944877 16776.99034213\n",
            " 12800.20366971 34026.48074856  7194.45759568 16563.96138535\n",
            " 10845.2387711   2687.73328335  6175.71548456]\n",
            "[36397.58  4415.16  7639.42  8965.8   9563.03 11454.02  5012.47 12648.7\n",
            " 13451.12 39871.7   2480.98 11856.41 25517.11  2155.68  5261.47]\n"
          ]
        }
      ]
    },
    {
      "cell_type": "code",
      "source": [
        "from sklearn.metrics import r2_score\n",
        "score = r2_score(y_pred,y_test)\n",
        "print(score)"
      ],
      "metadata": {
        "colab": {
          "base_uri": "https://localhost:8080/"
        },
        "id": "nekbCwYm-tu4",
        "outputId": "ee5edf75-5425-4e5b-bc41-8ff7956fc08f"
      },
      "execution_count": 101,
      "outputs": [
        {
          "output_type": "stream",
          "name": "stdout",
          "text": [
            "0.7419847208264118\n"
          ]
        }
      ]
    }
  ]
}